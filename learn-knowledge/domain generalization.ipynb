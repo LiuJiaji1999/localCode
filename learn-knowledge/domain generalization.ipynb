{
 "cells": [
  {
   "cell_type": "code",
   "execution_count": 2,
   "id": "7929a96c",
   "metadata": {},
   "outputs": [],
   "source": [
    "import torch\n",
    "import random"
   ]
  },
  {
   "cell_type": "code",
   "execution_count": null,
   "id": "a9fab938",
   "metadata": {},
   "outputs": [],
   "source": [
    "class ResNet_backbone():\n",
    "    def __init__(self,...):\n",
    "        \n",
    "    def forward(x):\n",
    "        p = random.random()\n",
    "        \n",
    "        x = self.stage_1(x)\n",
    "        if p < 0.5 and self.training():\n",
    "            x = Normalization_Pertubation(x)\n",
    "        x = self.stage_2(x)\n",
    "        if p < 0.5 and self.training():\n",
    "            x = Normalization_Pertubation(x)\n",
    "            \n",
    "        x = self.stage_3(x)\n",
    "        x = self.stage_4(x)\n",
    "        x = self.stage_5(x)\n",
    "        \n",
    "        return x\n",
    "    \n",
    "    def Normalization_Perturbation(feat) :\n",
    "        # feat: input features of size (B，C， H，W)\n",
    "        feat_mean = feat.mean((2, 3), keepdim = True) # size: B, C,1,1\n",
    "        ones_mat = torch.ones_like(feat_mean)\n",
    "        alpha = torch.normal(ones_mat, 0.75 * ones_mat) # size: B,C+1. 1\n",
    "        beta = torch.normal(ones_mat, 0.75 * ones_mat) # size: B,C,+1.1\n",
    "        \n",
    "        output = alpha * feat - alpha * feat_mean + beta * feat_mean\n",
    "        return output # size: B，C，H，W\n",
    "        \n",
    "    def Normalization_Perturbation_Plus(feat) :\n",
    "        feat_mean = feat.mean((2,3), keepdim = True)\n",
    "        ones_mat = torch.ones_like(feat_mean)\n",
    "        zeros_mat = torch.zeros_like(feat mean)\n",
    "        \n",
    "        mean_diff = torch.std(feat mean, 0, keepdim = True)\n",
    "        mean_scale = mean_diff / mean_diff.max() * 1.5\n",
    "        alpha = torch.normal(ones_mat, 0.75 * ones_mat) # size: B,C+1. 1\n",
    "        beta = 1 + torch.normal(zeros_mat, 0.75 * ones_mat) * mean_scale\n",
    "        output = alpha * feat - alpha * feat_mean + beta * feat_mean\n",
    "        return output \n",
    "        \n"
   ]
  },
  {
   "cell_type": "code",
   "execution_count": null,
   "id": "9a4612d9",
   "metadata": {},
   "outputs": [],
   "source": [
    "from PIL import ImageFilter,ImageOps\n",
    "import random\n",
    "import torchvision.transforms as transforms\n",
    "\n",
    "photometric_data_augmentation = [\n",
    "    transforms.RandomApply([\n",
    "    transforms.ColorJitter(0.4, 0.4, 0.2, 0.1)\n",
    "    ], p = 0.8),\n",
    "    transforms.RandomGrayscale (p = 0.3),\n",
    "    transforms.RandomApply([GaussianBlur([.1,2.])], p = 0.3),\n",
    "    transforms.RandomApply([Solarize()], p = 0.3),\n",
    "    ]\n",
    "\n",
    "class GaussianBlur(object) :\n",
    "    \"Gaussian blur augmentation from SimCIR\"\n",
    "    def init__(self, sigma=[.1,2.]):\n",
    "        self.sigma = sigma\n",
    "     \n",
    "    def __ca11__(self, x):\n",
    "        sigma = random.uniform(self.sigma[0], self.sigma[1])\n",
    "        x = x.filter(ImageFilter,GaussianBlur(radius=sigma))\n",
    "        return x\n",
    "\n",
    "     \n",
    "class Solarize(object) :\n",
    "    \"Solarize augmentation from BYOL\"\n",
    "    def __ca11__(self,x):\n",
    "        return ImageOps.solarize(x)\n"
   ]
  },
  {
   "cell_type": "code",
   "execution_count": null,
   "id": "34c09b85",
   "metadata": {},
   "outputs": [],
   "source": []
  }
 ],
 "metadata": {
  "kernelspec": {
   "display_name": "Python 3 (ipykernel)",
   "language": "python",
   "name": "python3"
  },
  "language_info": {
   "codemirror_mode": {
    "name": "ipython",
    "version": 3
   },
   "file_extension": ".py",
   "mimetype": "text/x-python",
   "name": "python",
   "nbconvert_exporter": "python",
   "pygments_lexer": "ipython3",
   "version": "3.7.10"
  }
 },
 "nbformat": 4,
 "nbformat_minor": 5
}
