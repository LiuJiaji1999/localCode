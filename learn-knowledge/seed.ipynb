{
 "cells": [
  {
   "cell_type": "code",
   "execution_count": 1,
   "metadata": {},
   "outputs": [
    {
     "name": "stdout",
     "output_type": "stream",
     "text": [
      "随机数1: 0.5298486666569063\n",
      "随机数2: 0.9056758880035777\n"
     ]
    }
   ],
   "source": [
    "import random\n",
    "# 随机数不一样\n",
    "random.seed()\n",
    "print('随机数1:',random.random())\n",
    "random.seed()\n",
    "print('随机数2:',random.random())\n"
   ]
  },
  {
   "cell_type": "code",
   "execution_count": 3,
   "metadata": {},
   "outputs": [
    {
     "name": "stdout",
     "output_type": "stream",
     "text": [
      "随机数3: 0.793340083761663\n",
      "随机数4: 0.793340083761663\n",
      "随机数5: 0.32383276483316237\n"
     ]
    }
   ],
   "source": [
    "# 随机数一样\n",
    "random.seed(6) # 参数随意，只是定个初始值\n",
    "print('随机数3:',random.random())\n",
    "random.seed(6)\n",
    "print('随机数4:',random.random())\n",
    "\n",
    "# 参数不一样的，随机数就不一样\n",
    "random.seed(7)\n",
    "print('随机数5:',random.random())"
   ]
  },
  {
   "cell_type": "markdown",
   "metadata": {},
   "source": [
    "- 随机数种子，相当于我给接下来需要生成的随机数一个初值，按照我给的这个初值，按固定顺序生成随机数。\n",
    "\n",
    "（1）随机数种子相当于给我们一个初值，之后按照固定顺序生成随机数（也就是我们说的超级长的 list ）\n",
    "\n",
    "（2）随机数种子对后面的结果一直有影响，在一个随机数种子后生成的随机数都受这个随机数种子的影响，即生成的随机数都是由这个随机数种子给的初值，按照固定顺序生成的。\n",
    "\n",
    "（3）每次使用之前都需要调用一下：np.random.seed(0) 【 random.seed(0) 同理】\n",
    "\n",
    "（4）np.random.seed(0)中参数0是随便取的，可以认为是初值的标志，每次按照这个标志都可以得到相同的初值"
   ]
  },
  {
   "cell_type": "code",
   "execution_count": 1,
   "metadata": {},
   "outputs": [
    {
     "name": "stdout",
     "output_type": "stream",
     "text": [
      "[0.5488135  0.71518937 0.60276338 0.54488318 0.4236548 ]\n"
     ]
    }
   ],
   "source": [
    "import numpy as np\n",
    "np.random.seed(0)  # 先定义一个随机数种子\n",
    "print(np.random.rand(5))  # \"随机\"生成5个数"
   ]
  },
  {
   "cell_type": "code",
   "execution_count": 2,
   "metadata": {},
   "outputs": [
    {
     "name": "stdout",
     "output_type": "stream",
     "text": [
      "[0.5488135  0.71518937 0.60276338 0.54488318 0.4236548 ]\n",
      "[0.64589411 0.43758721 0.891773   0.96366276 0.38344152]\n"
     ]
    }
   ],
   "source": [
    "import numpy as np\n",
    "np.random.seed(0)  # 先定义一个随机数种子\n",
    "print(np.random.rand(5))  # \"随机\"生成5个数\n",
    "print(np.random.rand(5))  # 再\"随机\"生成5个数"
   ]
  },
  {
   "cell_type": "code",
   "execution_count": 3,
   "metadata": {},
   "outputs": [
    {
     "name": "stdout",
     "output_type": "stream",
     "text": [
      "[0.5488135  0.71518937 0.60276338 0.54488318 0.4236548 ]\n",
      "[0.64589411 0.43758721 0.891773   0.96366276 0.38344152]\n",
      "0.5488135039273248\n",
      "0.7151893663724195\n",
      "0.6027633760716439\n",
      "0.5448831829968969\n",
      "0.4236547993389047\n",
      "0.6458941130666561\n",
      "0.4375872112626925\n"
     ]
    }
   ],
   "source": [
    "import numpy as np\n",
    "np.random.seed(0)  # 先定义一个随机数种子\n",
    "print(np.random.rand(5))  # \"随机\"生成5个数\n",
    "print(np.random.rand(5))  # 再\"随机\"生成5个数\n",
    "\n",
    "np.random.seed(0)\n",
    "for i in range(7):\n",
    "    print(np.random.random())  # \"随机\"生成7个数"
   ]
  },
  {
   "cell_type": "markdown",
   "metadata": {},
   "source": [
    "接下来我们的对比一下，最后输出的7个随机数的结果和我们之前分两次输出的随机数列表，\n",
    "\n",
    "我们可以很清晰的看到：我们最后输出的7个随机数便是依次从我们之前的生成的10个随机数中取得的！ \n",
    "\n",
    "也就是说在代码中，我们看到 “ 随机 ” ，那就是说并不是真正随机（假随机）。\n",
    "\n",
    "- 设置的seed()值仅一次有效"
   ]
  },
  {
   "cell_type": "code",
   "execution_count": 8,
   "metadata": {},
   "outputs": [
    {
     "name": "stdout",
     "output_type": "stream",
     "text": [
      "[[0.5488135  0.71518937 0.60276338]\n",
      " [0.54488318 0.4236548  0.64589411]]\n",
      "[[4.17022005e-01 7.20324493e-01 1.14374817e-04]\n",
      " [3.02332573e-01 1.46755891e-01 9.23385948e-02]]\n",
      "[[0.4359949  0.02592623 0.54966248]\n",
      " [0.43532239 0.4203678  0.33033482]]\n"
     ]
    }
   ],
   "source": [
    "import numpy as np\n",
    "# 参数问题：这个参数是随便取的，可以认为是初值的标志，每次按照这个标志都可以得到相同的初值\n",
    "np.random.seed(0) \n",
    "print(np.random.rand(2, 3))\n",
    "\n",
    "np.random.seed(1)\n",
    "print(np.random.rand(2, 3))\n",
    "\n",
    "np.random.seed(2)\n",
    "print(np.random.rand(2, 3))"
   ]
  },
  {
   "cell_type": "code",
   "execution_count": 10,
   "metadata": {},
   "outputs": [
    {
     "name": "stdout",
     "output_type": "stream",
     "text": [
      "[[ 1.62434536 -0.61175641 -0.52817175]\n",
      " [-1.07296862  0.86540763 -2.3015387 ]\n",
      " [ 1.74481176 -0.7612069   0.3190391 ]]\n",
      "[[-0.24937038  1.46210794 -2.06014071]\n",
      " [-0.3224172  -0.38405435  1.13376944]\n",
      " [-1.09989127 -0.17242821 -0.87785842]]\n"
     ]
    }
   ],
   "source": [
    "import numpy as np\n",
    "####  使用前后都需要调用 np.random.seed(1)\n",
    "np.random.seed(1)\n",
    "L1 = np.random.randn(3, 3)\n",
    "np.random.seed(1)\n",
    "L2 = np.random.randn(3, 3)\n",
    "print(L1)\n",
    "print(L2)"
   ]
  }
 ],
 "metadata": {
  "kernelspec": {
   "display_name": "torch",
   "language": "python",
   "name": "python3"
  },
  "language_info": {
   "codemirror_mode": {
    "name": "ipython",
    "version": 3
   },
   "file_extension": ".py",
   "mimetype": "text/x-python",
   "name": "python",
   "nbconvert_exporter": "python",
   "pygments_lexer": "ipython3",
   "version": "3.9.0"
  }
 },
 "nbformat": 4,
 "nbformat_minor": 2
}
